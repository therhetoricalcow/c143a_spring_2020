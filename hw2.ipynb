{
  "nbformat": 4,
  "nbformat_minor": 0,
  "metadata": {
    "kernelspec": {
      "display_name": "Python 3",
      "language": "python",
      "name": "python3"
    },
    "language_info": {
      "codemirror_mode": {
        "name": "ipython",
        "version": 3
      },
      "file_extension": ".py",
      "mimetype": "text/x-python",
      "name": "python",
      "nbconvert_exporter": "python",
      "pygments_lexer": "ipython3",
      "version": "3.7.4"
    },
    "colab": {
      "name": "hw2.ipynb",
      "provenance": []
    }
  },
  "cells": [
    {
      "cell_type": "markdown",
      "metadata": {
        "id": "ocs6TNq8thin"
      },
      "source": [
        "# HW2 Coding\n",
        "\n",
        "This workbook will walk you through the plotting problem 2(f) in HW2. It will also provide familiarity with Jupyter Notebook and Python. Please print (to pdf) a completed version of this workbook for submission with HW2.\n",
        "\n",
        "ECE C143A/C243A, Spring Quarter 2020, Prof. J.C. Kao, TAs J. Lee, T. Monsoor"
      ]
    },
    {
      "cell_type": "markdown",
      "metadata": {
        "id": "54BQVctYthip"
      },
      "source": [
        "## Import library"
      ]
    },
    {
      "cell_type": "code",
      "metadata": {
        "id": "qN8Vu_0mthir"
      },
      "source": [
        "import numpy as np \n",
        "import matplotlib.pyplot as plt"
      ],
      "execution_count": null,
      "outputs": []
    },
    {
      "cell_type": "code",
      "metadata": {
        "id": "f3FJhN0hCxpv",
        "colab": {
          "base_uri": "https://localhost:8080/",
          "height": 34
        },
        "outputId": "940628ea-76ae-44e5-b523-ea9e5f66de3a"
      },
      "source": [
        "##2g\n",
        "\n",
        "vals = np.array([1,0,1,1,np.sqrt(3)/2,1/2,1,np.sqrt(3)/2,-0.5,1,0,-1,1,-np.sqrt(3)/2,-0.5,1,-np.sqrt(3)/2,0.5])\n",
        "vals = vals.reshape((6,3))\n",
        "\n",
        "# inv_vals=np.linalg.inv(vals)\n",
        "# k = np.matmul(inv_vals)\n",
        "y=np.array([25,40,70,30,10,15])\n",
        "w = np.matmul(vals.T , vals)\n",
        "k=np.matmul(np.matmul(np.linalg.inv(w),vals.T),y)\n",
        "c0 = k[0]\n",
        "c1 = np.sqrt(k[1]**2 + k[2]**2)\n",
        "theta0 = (180/np.pi)*np.arctan2(k[1],k[2])\n",
        "print(c0,c1,theta0)"
      ],
      "execution_count": null,
      "outputs": [
        {
          "output_type": "stream",
          "text": [
            "31.666666666666664 25.2212432507026 103.37282580811677\n"
          ],
          "name": "stdout"
        }
      ]
    },
    {
      "cell_type": "markdown",
      "metadata": {
        "id": "MqPPVKCgthiy"
      },
      "source": [
        "## Define the function"
      ]
    },
    {
      "cell_type": "markdown",
      "metadata": {
        "id": "vu8cxq8Athiy"
      },
      "source": [
        "The function below, ``ptc()`` accepts the average firing rates at three targets and learns the parameters $c_0, c_1,$ and $\\theta$ of the tuning curve.  Please implement this function below.  You may evaluate your execution by running the code under section \"Plot the figure,\" which calculates the tuning parameters using your implementation of ``ptc()``.  The output should appear reasonable."
      ]
    },
    {
      "cell_type": "code",
      "metadata": {
        "id": "wfha_Uwythi0"
      },
      "source": [
        "def ptc(y0 , y1 , y2):\n",
        "    #PTC calculates the tuning curve given average firing rates for certain directions.\n",
        "    \n",
        "    # ================================================================ #\n",
        "    # YOUR CODE HERE:\n",
        "    #  The function takes three inputs corresponding to the average \n",
        "    #  firing rate of a neuron during a reach to 0 degrees (y0), 120 \n",
        "    #  degrees (y1) and 240 degrees (y2). The outputs, c0, c1, and \n",
        "    #  theta0 are the parameters of the tuning curve.\n",
        "    # ================================================================ #\n",
        "    vals = np.array([1,0,1,1,np.sqrt(3)/2,-0.5,1,-np.sqrt(3)/2,-0.5])\n",
        "    vals = vals.reshape((3,3))\n",
        "    inv_vals = np.linalg.inv(vals)\n",
        "    k = np.matmul(inv_vals,np.array([y0,y1,y2]))\n",
        "    c0 = k[0]\n",
        "    c1 = np.sqrt(k[1]**2 + k[2]**2)\n",
        "    theta0 = (180/np.pi)*np.arctan2(k[1],k[2])\n",
        "\n",
        "    # ================================================================ #\n",
        "    # END YOUR CODE HERE\n",
        "    # ================================================================ #\n",
        "\n",
        "    return c0,c1,theta0"
      ],
      "execution_count": null,
      "outputs": []
    },
    {
      "cell_type": "markdown",
      "metadata": {
        "id": "wCT8tXyDthi5"
      },
      "source": [
        "## Plot the figure"
      ]
    },
    {
      "cell_type": "markdown",
      "metadata": {
        "id": "sfP9QtGothi6"
      },
      "source": [
        "The following cells execute your PTC function, printing out the values and plotting the tuning curve."
      ]
    },
    {
      "cell_type": "code",
      "metadata": {
        "id": "rx9yzDf0thi6",
        "colab": {
          "base_uri": "https://localhost:8080/",
          "height": 68
        },
        "outputId": "aed24391-e069-40e9-eb92-ddbe72e8b83d"
      },
      "source": [
        "c0, c1, theta0=ptc(25,70,10)\n",
        "print('c0 = ', c0)\n",
        "print('c1 = ', c1)\n",
        "print('theta0 = ', theta0)"
      ],
      "execution_count": null,
      "outputs": [
        {
          "output_type": "stream",
          "text": [
            "c0 =  35.0\n",
            "c1 =  36.0555127546399\n",
            "theta0 =  106.10211375198601\n"
          ],
          "name": "stdout"
        }
      ]
    },
    {
      "cell_type": "code",
      "metadata": {
        "id": "DFdIIQpLthi_",
        "colab": {
          "base_uri": "https://localhost:8080/",
          "height": 287
        },
        "outputId": "f36bf874-36cb-4fad-bd21-57915e9f9582"
      },
      "source": [
        "theta = np.linspace(0, 2*np.pi, num=80)\n",
        "plt.plot([0,120,240],[25,70,10],'r*',10)\n",
        "plt.plot(theta * 180 / np.pi,c0 + c1 *np.cos(theta - theta0 * np.pi/180),'b',2)\n",
        "plt.xlim ([-10 ,370])\n",
        "plt.ylim ([-10,80])\n",
        "plt.xlabel(r'$\\theta$ (degrees)');\n",
        "plt.ylabel(r'$f(\\theta)$');"
      ],
      "execution_count": null,
      "outputs": [
        {
          "output_type": "display_data",
          "data": {
            "image/png": "[encoded data removed]",
            "text/plain": [
              "<Figure size 432x288 with 1 Axes>"
            ]
          },
          "metadata": {
            "tags": [],
            "needs_background": "light"
          }
        }
      ]
    }
  ]
}