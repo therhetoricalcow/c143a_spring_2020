{
  "nbformat": 4,
  "nbformat_minor": 0,
  "metadata": {
    "kernelspec": {
      "display_name": "Python 3",
      "language": "python",
      "name": "python3"
    },
    "language_info": {
      "codemirror_mode": {
        "name": "ipython",
        "version": 3
      },
      "file_extension": ".py",
      "mimetype": "text/x-python",
      "name": "python",
      "nbconvert_exporter": "python",
      "pygments_lexer": "ipython3",
      "version": "3.7.4"
    },
    "colab": {
      "name": "hw3p3.ipynb",
      "provenance": [],
      "toc_visible": true
    }
  },
  "cells": [
    {
      "cell_type": "markdown",
      "metadata": {
        "id": "YT_R4AClGhj3"
      },
      "source": [
        "## Homework 3, Problem 3 on inhomogeneous Poisson processes\n",
        "\n",
        "ECE C143A/C243A, Spring Quarter 2020, Prof. J.C. Kao, TAs J. Lee, T. Monsoor.\n"
      ]
    },
    {
      "cell_type": "markdown",
      "metadata": {
        "id": "ER1-KpjaGhj4"
      },
      "source": [
        " In this problem, we will use the same simulated neuron as in\n",
        "  Problem 2, but now the reaching angle $s$ will be time-dependent\n",
        "  with the following form:\n",
        "$$ s(t) = t^2 \\cdot \\pi,$$\n",
        "\n",
        "where $t$ ranges between 0 and 1 second. This will be refered as *s(t)* equation in the questions.\n"
      ]
    },
    {
      "cell_type": "code",
      "metadata": {
        "id": "oEWh__fZGhj6",
        "colab": {
          "base_uri": "https://localhost:8080/",
          "height": 52
        },
        "outputId": "dea7fbc5-d0b0-4659-ceac-594d936dca55"
      },
      "source": [
        "\"\"\"\n",
        "ECE C143/C243 Homework-3 Problem-3\n",
        "\n",
        "\"\"\"\n",
        "import numpy as np\n",
        "import matplotlib.pyplot as plt\n",
        "import nsp as nsp # these are helper functions that we provide.\n",
        "import scipy.special\n",
        "\n",
        "# Load matplotlib images inline\n",
        "%matplotlib inline\n",
        "\n",
        "# Reloading any code written in external .py files.\n",
        "%load_ext autoreload\n",
        "%autoreload 2"
      ],
      "execution_count": null,
      "outputs": [
        {
          "output_type": "stream",
          "text": [
            "The autoreload extension is already loaded. To reload it, use:\n",
            "  %reload_ext autoreload\n"
          ],
          "name": "stdout"
        }
      ]
    },
    {
      "cell_type": "markdown",
      "metadata": {
        "id": "W3K5_y-CGhkA"
      },
      "source": [
        "### (a) (6 points) Spike trains\n",
        "Generate 100 spike trains, each 1 second in duration, according to\n",
        "an inhomogeneous Poisson process with a firing rate profile defined\n",
        "by tuning equation, $$\\lambda(s) = r_0 + (r_\\text{max} - r_0)\\cos(s-s_\\text{max})$$ \n",
        "and the $s(t)$ equation, $$ s(t) = t^2 \\cdot \\pi$$"
      ]
    },
    {
      "cell_type": "code",
      "metadata": {
        "id": "0RHM131TGhkA"
      },
      "source": [
        "r_0 = 35 # (spikes/s)\n",
        "r_max = 60 # (spikes/s)\n",
        "s_max = np.pi/2 # (radians)\n",
        "T = 1000 # trial length (ms)"
      ],
      "execution_count": null,
      "outputs": []
    },
    {
      "cell_type": "code",
      "metadata": {
        "id": "fO97casIGhkF"
      },
      "source": [
        "np.random.exponential(1.0/r_max * 1000)"
      ],
      "execution_count": null,
      "outputs": []
    },
    {
      "cell_type": "code",
      "metadata": {
        "id": "cWTz-Se6GhkJ",
        "colab": {
          "base_uri": "https://localhost:8080/",
          "height": 312
        },
        "outputId": "5ca70467-c68f-4f4b-decc-f8892759d4c8"
      },
      "source": [
        "## 3a\n",
        "num_trials = 100 # number of total spike trains\n",
        "num_rasters_to_plot = 5 # number of spike trains to plot\n",
        "#====================================================#\n",
        "# YOUR CODE HERE:\n",
        "#   Generate the spike times for 100 trials of an inhomogeneous\n",
        "#   Poisson process.  Plot 5 example spike rasters.\n",
        "#====================================================#\n",
        "spike_times = np.empty((1,100),dtype=list)\n",
        "spike_probs = np.empty((1,100),dtype=list)\n",
        "for rep in range(100):\n",
        "  p = nsp.GeneratePoissonSpikeTrain(T,r_max)\n",
        "  s_p = np.square(p/1000)*np.pi\n",
        "  lprob = (r_0 + (r_max - r_0)*np.cos(s_p - s_max))/r_max\n",
        "  s = np.random.uniform(0,1.0,len(lprob))\n",
        "  l =np.multiply(1*(s<lprob),p)\n",
        "  spike_times[0,rep] =l[l != 0]\n",
        "\n",
        "num_rasters_to_plot = 5 # per condition\n",
        "nsp.PlotSpikeRaster(spike_times[0, 0:num_rasters_to_plot])\n",
        "plt.title('Spike Trains')\n",
        "#====================================================#\n",
        "# END YOUR CODE\n",
        "#====================================================#\n"
      ],
      "execution_count": null,
      "outputs": [
        {
          "output_type": "execute_result",
          "data": {
            "text/plain": [
              "Text(0.5, 1.0, 'Spike Trains')"
            ]
          },
          "metadata": {
            "tags": []
          },
          "execution_count": 64
        },
        {
          "output_type": "display_data",
          "data": {
            "image/png": "[encoded data removed]",
            "text/plain": [
              "<Figure size 432x288 with 1 Axes>"
            ]
          },
          "metadata": {
            "tags": [],
            "needs_background": "light"
          }
        }
      ]
    },
    {
      "cell_type": "markdown",
      "metadata": {
        "id": "dwxETyW_GhkN"
      },
      "source": [
        "### (b) (5 points) Spike histogram\n",
        "  Plot the spike histogram by taking spike counts in non-overlapping\n",
        "  20 ms bins, then averaging across the 100 trials.  The spike\n",
        "  histogram should have firing rate (in spikes / second) as the\n",
        "  vertical axis and time (in msec, not time bin index) as the\n",
        "  horizontal axis. Plot the expected firing rate profile defined by equations\n",
        " tuning equation and *s(t)* equation on the same plot. "
      ]
    },
    {
      "cell_type": "code",
      "metadata": {
        "id": "0B6BR5_AGhkO",
        "colab": {
          "base_uri": "https://localhost:8080/",
          "height": 296
        },
        "outputId": "6921e8b9-9362-4618-d138-1fd890b1b23e"
      },
      "source": [
        "# 3b\n",
        "bin_width = 20 # (ms)\n",
        "#====================================================#\n",
        "# YOUR CODE HERE:\n",
        "#   Plot the spike histogram\n",
        "#====================================================#\n",
        "x = np.arange(20,T+bin_width,step=bin_width)\n",
        "spikeCounts = []\n",
        "for s in x:\n",
        "  sums = 0\n",
        "  for rep in range(100):\n",
        "    spikeCount = np.size(np.intersect1d(np.where(spike_times[0,rep]<=s),np.where(spike_times[0,rep]>(s-bin_width))))\n",
        "    sums = sums + spikeCount\n",
        "        \n",
        "    averageSpikeC = sums*T/(num_trials*20)\n",
        "  spikeCounts.append(averageSpikeC)\n",
        "plt.bar(x-bin_width,spikeCounts,width=12)\n",
        "t = np.arange(1000)\n",
        "s = np.pi*np.square(t/1000)\n",
        "l = r_0 + (r_max - r_0)*np.cos(s - s_max)\n",
        "plt.plot(t,l,color = 'g')\n",
        "#====================================================#\n",
        "# END YOUR CODE\n",
        "#====================================================#\n",
        "\n",
        "plt.ylabel('spikes/s')\n",
        "plt.xlabel('Time(ms)')"
      ],
      "execution_count": null,
      "outputs": [
        {
          "output_type": "execute_result",
          "data": {
            "text/plain": [
              "Text(0.5, 0, 'Time(ms)')"
            ]
          },
          "metadata": {
            "tags": []
          },
          "execution_count": 65
        },
        {
          "output_type": "display_data",
          "data": {
            "image/png": "[encoded data removed]",
            "text/plain": [
              "<Figure size 432x288 with 1 Axes>"
            ]
          },
          "metadata": {
            "tags": [],
            "needs_background": "light"
          }
        }
      ]
    },
    {
      "cell_type": "markdown",
      "metadata": {
        "id": "npsYOoBbGhkT"
      },
      "source": [
        "#### Question:\n",
        "Does the spike histogram agree with the expected firing rate profile?"
      ]
    },
    {
      "cell_type": "markdown",
      "metadata": {
        "id": "kunn2E4fGhkT"
      },
      "source": [
        "#### Your Answer:Yes\n"
      ]
    },
    {
      "cell_type": "markdown",
      "metadata": {
        "id": "uBlMK_UwGhkU"
      },
      "source": [
        "### (c) (6 points) Count distribution\n",
        "  For each trial, count the number of spikes across the entire trial.\n",
        "  Plot the normalized distribution of spike counts.  Fit a Poisson\n",
        "  distribution to this empirical distribution and plot it on top of\n",
        "  the empirical distribution.  "
      ]
    },
    {
      "cell_type": "code",
      "metadata": {
        "id": "r6EyA1_2GhkV",
        "colab": {
          "base_uri": "https://localhost:8080/",
          "height": 278
        },
        "outputId": "93aa481e-bc78-40b4-9659-81a67f08070a"
      },
      "source": [
        "#====================================================#\n",
        "# YOUR CODE HERE:\n",
        "#   Plot the normalized distribution of spike counts\n",
        "#====================================================#\n",
        "\n",
        "spikeNum = []# each element in spike_counts is the total spike count for this reach direction and trial \n",
        "for rep in range(num_trials):\n",
        "  spikeNum.append(np.size(spike_times[0,rep]))\n",
        "\n",
        "max_count = max(spikeNum)\n",
        "l = np.mean(spikeNum)\n",
        "k = np.arange(0,max_count+1)\n",
        "\n",
        "f = (np.exp(-l) * (l)**k)/scipy.special.factorial(k)\n",
        "\n",
        "plt.hist(spikeNum,density=True)\n",
        "plt.plot(k,f)\n",
        "#====================================================#\n",
        "# END YOUR CODE\n",
        "#====================================================#\n",
        "plt.xlabel('spike count')\n",
        "plt.ylabel('p(spikecount)')\n",
        "plt.show()"
      ],
      "execution_count": null,
      "outputs": [
        {
          "output_type": "display_data",
          "data": {
            "image/png": "[encoded data removed]",
            "text/plain": [
              "<Figure size 432x288 with 1 Axes>"
            ]
          },
          "metadata": {
            "tags": [],
            "needs_background": "light"
          }
        }
      ]
    },
    {
      "cell_type": "markdown",
      "metadata": {
        "id": "Q8o4UBziGhka"
      },
      "source": [
        "#### Question:\n",
        "Should we expect the spike counts to be Poisson-distributed?"
      ]
    },
    {
      "cell_type": "markdown",
      "metadata": {
        "id": "Yl-tGp9GGhkb"
      },
      "source": [
        "#### Your Answer:Yes"
      ]
    },
    {
      "cell_type": "markdown",
      "metadata": {
        "id": "kzVx_DwrGhkb"
      },
      "source": [
        "### (d) (5 points) ISI distribution\n",
        "  Plot the normalized distribution of ISIs.  Fit an exponential\n",
        "  distribution to the empirical distribution and plot it on top of the\n",
        "  empirical distribution. "
      ]
    },
    {
      "cell_type": "code",
      "metadata": {
        "id": "ISCwTWdZGhkc",
        "colab": {
          "base_uri": "https://localhost:8080/",
          "height": 278
        },
        "outputId": "1e269ea9-b4cf-4237-d2e6-b80e0ccbe7d8"
      },
      "source": [
        "#====================================================#\n",
        "# YOUR CODE HERE:\n",
        "#   Plot the normalized distribution of ISIs\n",
        "#====================================================#\n",
        "isi = []\n",
        "for rep in range(num_trials):\n",
        "  for i in range(len(spike_times[0,rep])):\n",
        "    try:\n",
        "      isi.append(spike_times[0,rep][i+1] - spike_times[0,rep][i])\n",
        "    except:\n",
        "      pass\n",
        "l = np.mean(spikeNum)/1000\n",
        "t = np.arange(500)\n",
        "plt.hist(isi,density = True,bins = 100)\n",
        "f = l*np.exp(-l*t)\n",
        "plt.plot(t,f)\n",
        "plt.xlim([0,100])\n",
        "#====================================================#\n",
        "# END YOUR CODE\n",
        "#====================================================#\n",
        "plt.xlabel('ISI (ms)')\n",
        "plt.ylabel('P(ISI)')\n",
        "plt.show()"
      ],
      "execution_count": null,
      "outputs": [
        {
          "output_type": "display_data",
          "data": {
            "image/png": "[encoded data removed]",
            "text/plain": [
              "<Figure size 432x288 with 1 Axes>"
            ]
          },
          "metadata": {
            "tags": [],
            "needs_background": "light"
          }
        }
      ]
    },
    {
      "cell_type": "markdown",
      "metadata": {
        "id": "fGz3yiKdGhkg"
      },
      "source": [
        "#### Question: \n",
        "Should we expect the ISIs to be exponentially-distributed?\n",
        "(Note, it is possible for the  empirical distribution to strongly resemble an exponential distribution even if the data aren't exponentially distributed.)"
      ]
    },
    {
      "cell_type": "markdown",
      "metadata": {
        "id": "TXmwzCR3Ghkh"
      },
      "source": [
        "#### Your Answer:No"
      ]
    }
  ]
}